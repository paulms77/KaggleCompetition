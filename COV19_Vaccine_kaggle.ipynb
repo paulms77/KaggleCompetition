{
  "nbformat": 4,
  "nbformat_minor": 0,
  "metadata": {
    "colab": {
      "name": "COV19_Vaccine_kaggle.ipynb",
      "provenance": [],
      "collapsed_sections": []
    },
    "kernelspec": {
      "name": "python3",
      "display_name": "Python 3"
    }
  },
  "cells": [
    {
      "cell_type": "markdown",
      "metadata": {
        "id": "DxkQs-pCeOhB",
        "colab_type": "text"
      },
      "source": [
        "앙상블 - \n",
        "OpenVaccine: COVID-19 mRNA Vaccine Degradation Prediction"
      ]
    },
    {
      "cell_type": "code",
      "metadata": {
        "id": "SPok6XmsZQuS",
        "colab_type": "code",
        "colab": {}
      },
      "source": [
        "import pandas as pd\n",
        "import numpy as np\n",
        "import re"
      ],
      "execution_count": null,
      "outputs": []
    },
    {
      "cell_type": "code",
      "metadata": {
        "id": "slkddnhDXx9T",
        "colab_type": "code",
        "colab": {}
      },
      "source": [
        "sub1 = pd.read_csv('sample_submission.csv')\n",
        "sub2 = pd.read_csv('submission (1).csv')\n",
        "sub3 = pd.read_csv('submission (2).csv')\n",
        "sub4 = pd.read_csv('submission (3).csv')\n",
        "#sub5 = pd.read_csv('submission (4).csv') # 스코어가 낮음 \n",
        "#sub6 = pd.read_csv('submission (5).csv')\n",
        "#sub7 = pd.read_csv('submission (7).csv') \n",
        "#sub8 = pd.read_csv('submission_lgbm_v1.csv') # 스코어가 낮음\n",
        "sub9 = pd.read_csv('ensemble_final (1).csv')\n",
        "sub10 = pd.read_csv('ensemble_final.csv')\n",
        "# 앙상블모형은 점수가 높은것들을 조합해야 대부분 점수가 좋게 나옴"
      ],
      "execution_count": null,
      "outputs": []
    },
    {
      "cell_type": "code",
      "metadata": {
        "id": "dcdYdQFrX8ux",
        "colab_type": "code",
        "colab": {}
      },
      "source": [
        "sub = sub1\n",
        "\n",
        "subs = [sub2, sub3, sub4, sub7, sub9, sub10]"
      ],
      "execution_count": null,
      "outputs": []
    },
    {
      "cell_type": "code",
      "metadata": {
        "id": "A0ekVZBBX-JS",
        "colab_type": "code",
        "colab": {}
      },
      "source": [
        "for col in  ['reactivity', 'deg_Mg_pH10', 'deg_pH10', 'deg_Mg_50C', 'deg_50C']:\n",
        "    for model in subs:\n",
        "        sub[col] += model[col]\n",
        "    sub[col] /= 7"
      ],
      "execution_count": null,
      "outputs": []
    },
    {
      "cell_type": "code",
      "metadata": {
        "id": "s7XYE0dyYBKK",
        "colab_type": "code",
        "colab": {}
      },
      "source": [
        "sub.to_csv('my4_submission.csv', index=False)"
      ],
      "execution_count": null,
      "outputs": []
    },
    {
      "cell_type": "code",
      "metadata": {
        "id": "T2Y-j0XRZa_D",
        "colab_type": "code",
        "colab": {
          "base_uri": "https://localhost:8080/",
          "height": 410
        },
        "outputId": "04581058-b0dd-4dda-a2e2-013883d7d75a"
      },
      "source": [
        "sub"
      ],
      "execution_count": null,
      "outputs": [
        {
          "output_type": "execute_result",
          "data": {
            "text/html": [
              "<div>\n",
              "<style scoped>\n",
              "    .dataframe tbody tr th:only-of-type {\n",
              "        vertical-align: middle;\n",
              "    }\n",
              "\n",
              "    .dataframe tbody tr th {\n",
              "        vertical-align: top;\n",
              "    }\n",
              "\n",
              "    .dataframe thead th {\n",
              "        text-align: right;\n",
              "    }\n",
              "</style>\n",
              "<table border=\"1\" class=\"dataframe\">\n",
              "  <thead>\n",
              "    <tr style=\"text-align: right;\">\n",
              "      <th></th>\n",
              "      <th>id_seqpos</th>\n",
              "      <th>reactivity</th>\n",
              "      <th>deg_Mg_pH10</th>\n",
              "      <th>deg_pH10</th>\n",
              "      <th>deg_Mg_50C</th>\n",
              "      <th>deg_50C</th>\n",
              "    </tr>\n",
              "  </thead>\n",
              "  <tbody>\n",
              "    <tr>\n",
              "      <th>0</th>\n",
              "      <td>id_00073f8be_0</td>\n",
              "      <td>0.608696</td>\n",
              "      <td>0.560142</td>\n",
              "      <td>1.429354</td>\n",
              "      <td>0.474427</td>\n",
              "      <td>0.540815</td>\n",
              "    </tr>\n",
              "    <tr>\n",
              "      <th>1</th>\n",
              "      <td>id_00073f8be_1</td>\n",
              "      <td>1.871753</td>\n",
              "      <td>2.638633</td>\n",
              "      <td>3.014304</td>\n",
              "      <td>2.708641</td>\n",
              "      <td>2.076681</td>\n",
              "    </tr>\n",
              "    <tr>\n",
              "      <th>2</th>\n",
              "      <td>id_00073f8be_2</td>\n",
              "      <td>1.286689</td>\n",
              "      <td>0.513797</td>\n",
              "      <td>0.480776</td>\n",
              "      <td>0.595937</td>\n",
              "      <td>0.509087</td>\n",
              "    </tr>\n",
              "    <tr>\n",
              "      <th>3</th>\n",
              "      <td>id_00073f8be_3</td>\n",
              "      <td>1.110615</td>\n",
              "      <td>0.959403</td>\n",
              "      <td>0.860154</td>\n",
              "      <td>1.391493</td>\n",
              "      <td>1.242879</td>\n",
              "    </tr>\n",
              "    <tr>\n",
              "      <th>4</th>\n",
              "      <td>id_00073f8be_4</td>\n",
              "      <td>0.723426</td>\n",
              "      <td>0.508621</td>\n",
              "      <td>0.420808</td>\n",
              "      <td>0.732229</td>\n",
              "      <td>0.635750</td>\n",
              "    </tr>\n",
              "    <tr>\n",
              "      <th>...</th>\n",
              "      <td>...</td>\n",
              "      <td>...</td>\n",
              "      <td>...</td>\n",
              "      <td>...</td>\n",
              "      <td>...</td>\n",
              "      <td>...</td>\n",
              "    </tr>\n",
              "    <tr>\n",
              "      <th>457948</th>\n",
              "      <td>id_ffda94f24_125</td>\n",
              "      <td>0.189591</td>\n",
              "      <td>0.376198</td>\n",
              "      <td>0.314892</td>\n",
              "      <td>0.504676</td>\n",
              "      <td>0.339130</td>\n",
              "    </tr>\n",
              "    <tr>\n",
              "      <th>457949</th>\n",
              "      <td>id_ffda94f24_126</td>\n",
              "      <td>0.251404</td>\n",
              "      <td>0.376344</td>\n",
              "      <td>0.415971</td>\n",
              "      <td>0.507073</td>\n",
              "      <td>0.442440</td>\n",
              "    </tr>\n",
              "    <tr>\n",
              "      <th>457950</th>\n",
              "      <td>id_ffda94f24_127</td>\n",
              "      <td>0.430492</td>\n",
              "      <td>0.243907</td>\n",
              "      <td>0.187982</td>\n",
              "      <td>0.332503</td>\n",
              "      <td>0.340849</td>\n",
              "    </tr>\n",
              "    <tr>\n",
              "      <th>457951</th>\n",
              "      <td>id_ffda94f24_128</td>\n",
              "      <td>0.215441</td>\n",
              "      <td>0.259006</td>\n",
              "      <td>0.095469</td>\n",
              "      <td>0.355399</td>\n",
              "      <td>0.221391</td>\n",
              "    </tr>\n",
              "    <tr>\n",
              "      <th>457952</th>\n",
              "      <td>id_ffda94f24_129</td>\n",
              "      <td>0.088546</td>\n",
              "      <td>0.296586</td>\n",
              "      <td>0.083734</td>\n",
              "      <td>0.385835</td>\n",
              "      <td>0.158451</td>\n",
              "    </tr>\n",
              "  </tbody>\n",
              "</table>\n",
              "<p>457953 rows × 6 columns</p>\n",
              "</div>"
            ],
            "text/plain": [
              "               id_seqpos  reactivity  ...  deg_Mg_50C   deg_50C\n",
              "0         id_00073f8be_0    0.608696  ...    0.474427  0.540815\n",
              "1         id_00073f8be_1    1.871753  ...    2.708641  2.076681\n",
              "2         id_00073f8be_2    1.286689  ...    0.595937  0.509087\n",
              "3         id_00073f8be_3    1.110615  ...    1.391493  1.242879\n",
              "4         id_00073f8be_4    0.723426  ...    0.732229  0.635750\n",
              "...                  ...         ...  ...         ...       ...\n",
              "457948  id_ffda94f24_125    0.189591  ...    0.504676  0.339130\n",
              "457949  id_ffda94f24_126    0.251404  ...    0.507073  0.442440\n",
              "457950  id_ffda94f24_127    0.430492  ...    0.332503  0.340849\n",
              "457951  id_ffda94f24_128    0.215441  ...    0.355399  0.221391\n",
              "457952  id_ffda94f24_129    0.088546  ...    0.385835  0.158451\n",
              "\n",
              "[457953 rows x 6 columns]"
            ]
          },
          "metadata": {
            "tags": []
          },
          "execution_count": 57
        }
      ]
    },
    {
      "cell_type": "code",
      "metadata": {
        "id": "wXGk7wQfd-3X",
        "colab_type": "code",
        "colab": {}
      },
      "source": [
        ""
      ],
      "execution_count": null,
      "outputs": []
    }
  ]
}